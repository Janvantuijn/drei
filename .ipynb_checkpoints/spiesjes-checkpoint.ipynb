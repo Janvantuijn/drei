{
 "cells": [
  {
   "cell_type": "code",
   "execution_count": 104,
   "metadata": {},
   "outputs": [],
   "source": [
    "import numpy as np\n",
    "import matplotlib.pyplot as plt\n",
    "%matplotlib inline\n",
    "import datetime\n",
    "from scipy.stats import linregress\n"
   ]
  },
  {
   "cell_type": "code",
   "execution_count": 27,
   "metadata": {},
   "outputs": [
    {
     "name": "stdout",
     "output_type": "stream",
     "text": [
      "[['Sun' '10' 'March' '2019' '14:25' '1']\n",
      " ['Sun' '10' 'March' '2019' '13:29' '1']\n",
      " ['Sun' '10' 'March' '2019' '13:17' '1']\n",
      " ['Sun' '10' 'March' '2019' '13:09' '1']\n",
      " ['Sun' '10' 'March' '2019' '13:00' '1']\n",
      " ['Sun' '10' 'March' '2019' '12:59' '1']\n",
      " ['Sun' '10' 'March' '2019' '12:45' '1']\n",
      " ['Sun' '10' 'March' '2019' '12:45' '1']\n",
      " ['Sun' '10' 'March' '2019' '12:36' '1']\n",
      " ['Sun' '10' 'March' '2019' '12:35' '1']\n",
      " ['Sun' '10' 'March' '2019' '12:35' '-1']\n",
      " ['Sun' '10' 'March' '2019' '12:32' '1']\n",
      " ['Thu' '07' 'March' '2019' '22:15' '1']\n",
      " ['Thu' '07' 'March' '2019' '22:14' '1']\n",
      " ['Fri' '22' 'February' '2019' '22:38' '1']\n",
      " ['Sat' '16' 'February' '2019' '23:20' '1']\n",
      " ['Sat' '16' 'February' '2019' '23:19' '1']\n",
      " ['Sat' '16' 'February' '2019' '23:19' '1']\n",
      " ['Sat' '16' 'February' '2019' '23:19' '1']\n",
      " ['Sat' '16' 'February' '2019' '23:19' '1']\n",
      " ['Sat' '16' 'February' '2019' '23:18' '1']\n",
      " ['Sat' '16' 'February' '2019' '23:18' '1']\n",
      " ['Sat' '16' 'February' '2019' '23:18' '1']\n",
      " ['Sat' '16' 'February' '2019' '23:18' '1']\n",
      " ['Sat' '16' 'February' '2019' '23:18' '1']\n",
      " ['Sat' '16' 'February' '2019' '23:18' '1']\n",
      " ['Sat' '16' 'February' '2019' '23:17' '1']\n",
      " ['Sat' '16' 'February' '2019' '23:17' '1']\n",
      " ['Sat' '16' 'February' '2019' '22:25' '1']\n",
      " ['Sat' '16' 'February' '2019' '21:47' '1']\n",
      " ['Sat' '16' 'February' '2019' '21:47' '1']\n",
      " ['Sat' '16' 'February' '2019' '20:57' '1']\n",
      " ['Sat' '16' 'February' '2019' '20:55' '1']\n",
      " ['Sat' '16' 'February' '2019' '20:55' '1']\n",
      " ['Sat' '16' 'February' '2019' '20:55' '1']\n",
      " ['Sun' '23' 'September' '2018' '20:11' '1']\n",
      " ['Sun' '23' 'September' '2018' '18:17' '-1']\n",
      " ['Sun' '23' 'September' '2018' '18:17' '1']\n",
      " ['Sun' '23' 'September' '2018' '18:17' '1']\n",
      " ['Sun' '23' 'September' '2018' '18:17' '1']]\n"
     ]
    }
   ],
   "source": [
    "data = np.genfromtxt('data.txt', dtype ='str')\n",
    "print(data)"
   ]
  },
  {
   "cell_type": "code",
   "execution_count": 24,
   "metadata": {},
   "outputs": [],
   "source": [
    "change = data[:,5].astype(int)"
   ]
  },
  {
   "cell_type": "code",
   "execution_count": 33,
   "metadata": {},
   "outputs": [
    {
     "name": "stdout",
     "output_type": "stream",
     "text": [
      "[10 10 10 10 10 10 10 10 10 10 10 10  7  7 22 16 16 16 16 16 16 16 16 16\n",
      " 16 16 16 16 16 16 16 16 16 16 16 23 23 23 23 23]\n"
     ]
    }
   ],
   "source": [
    "dates = data[:,1].astype(int)\n",
    "months = data[:,2]\n",
    "years = data[:,3].astype(int)"
   ]
  },
  {
   "cell_type": "code",
   "execution_count": 108,
   "metadata": {},
   "outputs": [
    {
     "data": {
      "image/png": "[encoded data removed]",
      "text/plain": [
       "<Figure size 432x288 with 1 Axes>"
      ]
     },
     "metadata": {
      "needs_background": "light"
     },
     "output_type": "display_data"
    }
   ],
   "source": [
    "dts = []\n",
    "\n",
    "for i in range(len(change)):\n",
    "    date = datetime.datetime.strptime(str(dates[i])+' '+str(months[i])+' '+str(years[i]), '%d %B %Y')\n",
    "    dts.append(date)\n",
    "\n",
    "cum = np.zeros(len(change))\n",
    "for i in range(len(change)):\n",
    "    cum[i] = cum[i-1]+change[i]\n",
    "\n",
    "\n",
    "dts = dts[::-1]\n",
    "plt.plot(dts,cum)\n",
    "\n",
    "base = dts[0]\n",
    "\n",
    "dts2 = [(dts[i]-base).days for i in range(len(dts))]\n",
    "\n",
    "slope, intercept, r_value, p_value, std_err = linregress(dts2, cum)"
   ]
  },
  {
   "cell_type": "code",
   "execution_count": 121,
   "metadata": {},
   "outputs": [
    {
     "ename": "SyntaxError",
     "evalue": "positional argument follows keyword argument (<ipython-input-121-3291c2ab8f54>, line 15)",
     "output_type": "error",
     "traceback": [
      "\u001b[1;36m  File \u001b[1;32m\"<ipython-input-121-3291c2ab8f54>\"\u001b[1;36m, line \u001b[1;32m15\u001b[0m\n\u001b[1;33m    plt.axvline(x=finaldate, 'r')\u001b[0m\n\u001b[1;37m                            ^\u001b[0m\n\u001b[1;31mSyntaxError\u001b[0m\u001b[1;31m:\u001b[0m positional argument follows keyword argument\n"
     ]
    }
   ],
   "source": [
    "n = 3000\n",
    "xarray = np.linspace(0,n,n)\n",
    "\n",
    "target = 333\n",
    "\n",
    "datesarr = np.array([base+datetime.timedelta(days=i) for i in range(n)])\n",
    "yvals = slope*xarray+intercept\n",
    "\n",
    "final = (target-intercept)/slope\n",
    "finaltime = datetime.timedelta(final)\n",
    "finaldate = base+finaltime\n",
    "print(finaldate)\n",
    "\n",
    "plt.figure(figsize=(12,7))\n",
    "plt.axvline(x=finaldate)\n",
    "plt.axhline(y=target)\n",
    "plt.plot(dts,cum)\n",
    "plt.plot(datesarr, yvals)\n",
    "plt.xlabel('Jaar')\n",
    "plt.ylabel('Spiesjes')\n",
    "plt.title('Hoe snel halen die mooie jongens de 333 spiesjes?')\n",
    "\n",
    "\n",
    "\n"
   ]
  },
  {
   "cell_type": "code",
   "execution_count": 67,
   "metadata": {},
   "outputs": [],
   "source": [
    "d1 = toTimestamp(dts[1])"
   ]
  },
  {
   "cell_type": "code",
   "execution_count": 90,
   "metadata": {},
   "outputs": [
    {
     "name": "stdout",
     "output_type": "stream",
     "text": [
      "168\n"
     ]
    }
   ],
   "source": [
    "\n",
    "\n",
    "print((dts[-1]-dts[0]).days)"
   ]
  },
  {
   "cell_type": "code",
   "execution_count": null,
   "metadata": {},
   "outputs": [],
   "source": []
  }
 ],
 "metadata": {
  "kernelspec": {
   "display_name": "Python 3",
   "language": "python",
   "name": "python3"
  },
  "language_info": {
   "codemirror_mode": {
    "name": "ipython",
    "version": 3
   },
   "file_extension": ".py",
   "mimetype": "text/x-python",
   "name": "python",
   "nbconvert_exporter": "python",
   "pygments_lexer": "ipython3",
   "version": "3.7.1"
  }
 },
 "nbformat": 4,
 "nbformat_minor": 2
}
